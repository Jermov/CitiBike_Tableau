{
 "cells": [
  {
   "cell_type": "code",
   "execution_count": null,
   "id": "dc2e9282",
   "metadata": {},
   "outputs": [],
   "source": [
    "# Data Cleansing"
   ]
  },
  {
   "cell_type": "code",
   "execution_count": null,
   "id": "5f7b4584",
   "metadata": {},
   "outputs": [],
   "source": [
    "## Datasets did not join in any reasonable way- computer was taxed heavily on cpu and memory attempting this within tableau"
   ]
  },
  {
   "cell_type": "code",
   "execution_count": null,
   "id": "3a506b55",
   "metadata": {},
   "outputs": [],
   "source": [
    "## Opted instead to merge data and save out to a single dataframe"
   ]
  },
  {
   "cell_type": "code",
   "execution_count": 6,
   "id": "99d0f793",
   "metadata": {},
   "outputs": [
    {
     "name": "stdout",
     "output_type": "stream",
     "text": [
      "                 ride_id  rideable_type           started_at  \\\n",
      "0       1F77B1214EC26C33  electric_bike  2021-10-06 18:56:43   \n",
      "1       2C4DBFEC79FAE712   classic_bike  2021-10-11 20:37:02   \n",
      "2       3C533F406407D755   classic_bike  2021-10-30 20:19:06   \n",
      "3       D46E9259B84BE225   classic_bike  2021-10-22 18:33:03   \n",
      "4       0A6B5D4CC23FC8E5   classic_bike  2021-10-07 16:12:17   \n",
      "...                  ...            ...                  ...   \n",
      "881472  914104109C27B9C8  electric_bike  2022-09-09 21:50:46   \n",
      "881473  BF8C9DCD3FE530E7   classic_bike  2022-09-18 17:52:19   \n",
      "881474  F7DCB86572EC4732  electric_bike  2022-09-28 16:46:08   \n",
      "881475  A552D06A517E37E4   classic_bike  2022-09-27 11:39:59   \n",
      "881476  CDCAE5569A0464EF   classic_bike  2022-09-02 20:55:22   \n",
      "\n",
      "                   ended_at      start_station_name start_station_id  \\\n",
      "0       2021-10-06 19:47:05         McGinley Square            JC055   \n",
      "1       2021-10-11 20:47:31  Clinton St & Newark St            HB409   \n",
      "2       2021-10-30 20:20:32  Clinton St & Newark St            HB409   \n",
      "3       2021-10-22 19:55:27      Willow Ave & 12 St            HB505   \n",
      "4       2021-10-07 16:22:36          Pershing Field            JC024   \n",
      "...                     ...                     ...              ...   \n",
      "881472  2022-09-09 22:02:44       Madison St & 1 St            HB402   \n",
      "881473  2022-09-18 18:05:22        Monmouth and 6th            JC075   \n",
      "881474  2022-09-28 16:50:46         4 St & Grand St            HB301   \n",
      "881475  2022-09-27 11:43:58         4 St & Grand St            HB301   \n",
      "881476  2022-09-02 21:01:41         4 St & Grand St            HB301   \n",
      "\n",
      "                         end_station_name end_station_id  start_lat  \\\n",
      "0                             Astor Place          JC077  40.725340   \n",
      "1                  Clinton St & Newark St          HB409  40.737430   \n",
      "2                  Clinton St & Newark St          HB409  40.737430   \n",
      "3       Columbus Park - Clinton St & 9 St          HB501  40.751867   \n",
      "4                        Heights Elevator          JC059  40.742677   \n",
      "...                                   ...            ...        ...   \n",
      "881472         Columbus Dr at Exchange Pl          JC106  40.738790   \n",
      "881473            Bergen Ave & Stegman St          JC108  40.725604   \n",
      "881474                 Madison St & 10 St          HB503  40.742258   \n",
      "881475                 Madison St & 10 St          HB503  40.742258   \n",
      "881476                 Madison St & 10 St          HB503  40.742258   \n",
      "\n",
      "        start_lng    end_lat    end_lng member_casual  \n",
      "0      -74.067622  40.719282 -74.071262        member  \n",
      "1      -74.035710  40.737430 -74.035710        member  \n",
      "2      -74.035710  40.737430 -74.035710        member  \n",
      "3      -74.030377  40.748161 -74.032453        casual  \n",
      "4      -74.051789  40.748716 -74.040443        member  \n",
      "...           ...        ...        ...           ...  \n",
      "881472 -74.039300  40.716870 -74.032810        casual  \n",
      "881473 -74.048829  40.706575 -74.086701        member  \n",
      "881474 -74.035111  40.749943 -74.035865        member  \n",
      "881475 -74.035111  40.749943 -74.035865        member  \n",
      "881476 -74.035111  40.749943 -74.035865        casual  \n",
      "\n",
      "[881477 rows x 13 columns]\n"
     ]
    }
   ],
   "source": [
    "# importing libraries\n",
    "import pandas as pd\n",
    "import glob\n",
    "import os\n",
    "  \n",
    "# merging the files\n",
    "joined_files = os.path.join(\"JC-202*.csv\")\n",
    "  \n",
    "# A list of all joined files is returned\n",
    "joined_list = glob.glob(joined_files)\n",
    "  \n",
    "# Finally, the files are joined\n",
    "df = pd.concat(map(pd.read_csv, joined_list), ignore_index=True)\n",
    "print(df)"
   ]
  },
  {
   "cell_type": "code",
   "execution_count": 9,
   "id": "08efa6f2",
   "metadata": {},
   "outputs": [],
   "source": [
    "df.to_csv(\"citibike_Concat.csv\")"
   ]
  },
  {
   "cell_type": "code",
   "execution_count": null,
   "id": "6d33c54d",
   "metadata": {},
   "outputs": [],
   "source": []
  }
 ],
 "metadata": {
  "kernelspec": {
   "display_name": "Python 3 (ipykernel)",
   "language": "python",
   "name": "python3"
  },
  "language_info": {
   "codemirror_mode": {
    "name": "ipython",
    "version": 3
   },
   "file_extension": ".py",
   "mimetype": "text/x-python",
   "name": "python",
   "nbconvert_exporter": "python",
   "pygments_lexer": "ipython3",
   "version": "3.9.12"
  }
 },
 "nbformat": 4,
 "nbformat_minor": 5
}
